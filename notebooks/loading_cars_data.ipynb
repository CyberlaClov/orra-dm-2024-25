{
 "cells": [
  {
   "cell_type": "code",
   "execution_count": null,
   "metadata": {},
   "outputs": [],
   "source": [
    "from choice_learn.datasets import load_car_preferences"
   ]
  },
  {
   "cell_type": "code",
   "execution_count": null,
   "metadata": {},
   "outputs": [],
   "source": [
    "df = load_car_preferences(as_frame=True)"
   ]
  },
  {
   "cell_type": "code",
   "execution_count": null,
   "metadata": {},
   "outputs": [],
   "source": [
    "df.head()"
   ]
  },
  {
   "cell_type": "markdown",
   "metadata": {},
   "source": [
    "### Columns Description:\n",
    "\n",
    "| Column Name    | Description |\n",
    "| -------- | ------- |\n",
    "| choice | Choice of a vehicle among 6 propositions |\n",
    "| college | College education of customer |\n",
    "| hsg2 | Size of household is greater than 2 |\n",
    "| coml5 | Customer commutes less than 5 miles a day |\n",
    "\n",
    "Then each alternive has several attributes:\n",
    "| Column Name    | Description |\n",
    "| -------- | ------- |\n",
    "| type  | Body type of alternative Z, one of regcar (regular car), sportuv (sport utility vehicle), sportcar, stwagon (station wagon), truck, van |\n",
    "| fuel | Fuel type: among gasoline, methanol, cng (compressed natural gas), electric. |\n",
    "| price | Price of vehicle divided by the logarithm of income|\n",
    "| range | Hundreds of miles vehicle can travel between refuelings/rechargings |\n",
    "| acc | Acceleration, tens of seconds required to reach 30 mph from stop |\n",
    "| speed | Highest attainable speed in hundreds of mph|\n",
    "| pollution | Tailpipe emissions as fraction of those for new gas vehicle|\n",
    "| size | 0 for a mini, 1 for a subcompact, 2 for a compact and 3 for a mid–size or large vehicle|\n",
    "| space | Fraction of luggage space in comparable new gas vehicle |\n",
    "| cost | Cost per mile of travel (tens of cents) |\n",
    "| station | Fraction of stations that can refuel/recharge vehicle |"
   ]
  },
  {
   "cell_type": "code",
   "execution_count": null,
   "metadata": {},
   "outputs": [],
   "source": []
  }
 ],
 "metadata": {
  "kernelspec": {
   "display_name": "cs_td",
   "language": "python",
   "name": "python3"
  },
  "language_info": {
   "codemirror_mode": {
    "name": "ipython",
    "version": 3
   },
   "file_extension": ".py",
   "mimetype": "text/x-python",
   "name": "python",
   "nbconvert_exporter": "python",
   "pygments_lexer": "ipython3",
   "version": "3.12.0"
  }
 },
 "nbformat": 4,
 "nbformat_minor": 2
}
