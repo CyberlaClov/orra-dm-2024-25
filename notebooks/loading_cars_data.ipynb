{
 "cells": [
  {
   "cell_type": "code",
   "execution_count": 61,
   "metadata": {},
   "outputs": [],
   "source": [
    "# Make sure you have the choice-learn package installed\n",
    "# pip install choice-learn\n",
    "from choice_learn.datasets import load_car_preferences"
   ]
  },
  {
   "cell_type": "code",
   "execution_count": 62,
   "metadata": {},
   "outputs": [],
   "source": [
    "import os\n",
    "import sys\n",
    "\n",
    "sys.path.append(\"../python\")\n",
    "\n",
    "import matplotlib.pyplot as plt\n",
    "import numpy as np"
   ]
  },
  {
   "cell_type": "code",
   "execution_count": 63,
   "metadata": {},
   "outputs": [],
   "source": [
    "from models import HeuristicModel\n",
    "import metrics"
   ]
  },
  {
   "cell_type": "code",
   "execution_count": 64,
   "metadata": {},
   "outputs": [],
   "source": [
    "df = load_car_preferences(as_frame=True)"
   ]
  },
  {
   "cell_type": "code",
   "execution_count": 65,
   "metadata": {},
   "outputs": [
    {
     "data": {
      "text/html": [
       "<div>\n",
       "<style scoped>\n",
       "    .dataframe tbody tr th:only-of-type {\n",
       "        vertical-align: middle;\n",
       "    }\n",
       "\n",
       "    .dataframe tbody tr th {\n",
       "        vertical-align: top;\n",
       "    }\n",
       "\n",
       "    .dataframe thead th {\n",
       "        text-align: right;\n",
       "    }\n",
       "</style>\n",
       "<table border=\"1\" class=\"dataframe\">\n",
       "  <thead>\n",
       "    <tr style=\"text-align: right;\">\n",
       "      <th></th>\n",
       "      <th>rownames</th>\n",
       "      <th>choice</th>\n",
       "      <th>college</th>\n",
       "      <th>hsg2</th>\n",
       "      <th>coml5</th>\n",
       "      <th>type1</th>\n",
       "      <th>type2</th>\n",
       "      <th>type3</th>\n",
       "      <th>type4</th>\n",
       "      <th>type5</th>\n",
       "      <th>...</th>\n",
       "      <th>cost3</th>\n",
       "      <th>cost4</th>\n",
       "      <th>cost5</th>\n",
       "      <th>cost6</th>\n",
       "      <th>station1</th>\n",
       "      <th>station2</th>\n",
       "      <th>station3</th>\n",
       "      <th>station4</th>\n",
       "      <th>station5</th>\n",
       "      <th>station6</th>\n",
       "    </tr>\n",
       "  </thead>\n",
       "  <tbody>\n",
       "    <tr>\n",
       "      <th>0</th>\n",
       "      <td>1</td>\n",
       "      <td>choice1</td>\n",
       "      <td>0</td>\n",
       "      <td>0</td>\n",
       "      <td>0</td>\n",
       "      <td>van</td>\n",
       "      <td>regcar</td>\n",
       "      <td>van</td>\n",
       "      <td>stwagon</td>\n",
       "      <td>van</td>\n",
       "      <td>...</td>\n",
       "      <td>6</td>\n",
       "      <td>6</td>\n",
       "      <td>8</td>\n",
       "      <td>8</td>\n",
       "      <td>0.1</td>\n",
       "      <td>0.1</td>\n",
       "      <td>0.3</td>\n",
       "      <td>0.3</td>\n",
       "      <td>1.0</td>\n",
       "      <td>1.0</td>\n",
       "    </tr>\n",
       "    <tr>\n",
       "      <th>1</th>\n",
       "      <td>2</td>\n",
       "      <td>choice2</td>\n",
       "      <td>1</td>\n",
       "      <td>1</td>\n",
       "      <td>1</td>\n",
       "      <td>regcar</td>\n",
       "      <td>van</td>\n",
       "      <td>regcar</td>\n",
       "      <td>stwagon</td>\n",
       "      <td>regcar</td>\n",
       "      <td>...</td>\n",
       "      <td>8</td>\n",
       "      <td>8</td>\n",
       "      <td>4</td>\n",
       "      <td>4</td>\n",
       "      <td>0.0</td>\n",
       "      <td>0.0</td>\n",
       "      <td>0.1</td>\n",
       "      <td>0.1</td>\n",
       "      <td>1.0</td>\n",
       "      <td>1.0</td>\n",
       "    </tr>\n",
       "    <tr>\n",
       "      <th>2</th>\n",
       "      <td>3</td>\n",
       "      <td>choice5</td>\n",
       "      <td>0</td>\n",
       "      <td>1</td>\n",
       "      <td>0</td>\n",
       "      <td>regcar</td>\n",
       "      <td>truck</td>\n",
       "      <td>regcar</td>\n",
       "      <td>van</td>\n",
       "      <td>regcar</td>\n",
       "      <td>...</td>\n",
       "      <td>8</td>\n",
       "      <td>8</td>\n",
       "      <td>2</td>\n",
       "      <td>2</td>\n",
       "      <td>0.1</td>\n",
       "      <td>0.1</td>\n",
       "      <td>0.3</td>\n",
       "      <td>0.3</td>\n",
       "      <td>1.0</td>\n",
       "      <td>1.0</td>\n",
       "    </tr>\n",
       "    <tr>\n",
       "      <th>3</th>\n",
       "      <td>4</td>\n",
       "      <td>choice5</td>\n",
       "      <td>0</td>\n",
       "      <td>0</td>\n",
       "      <td>1</td>\n",
       "      <td>regcar</td>\n",
       "      <td>truck</td>\n",
       "      <td>regcar</td>\n",
       "      <td>van</td>\n",
       "      <td>regcar</td>\n",
       "      <td>...</td>\n",
       "      <td>2</td>\n",
       "      <td>2</td>\n",
       "      <td>4</td>\n",
       "      <td>4</td>\n",
       "      <td>0.0</td>\n",
       "      <td>0.0</td>\n",
       "      <td>0.7</td>\n",
       "      <td>0.7</td>\n",
       "      <td>0.1</td>\n",
       "      <td>0.1</td>\n",
       "    </tr>\n",
       "    <tr>\n",
       "      <th>4</th>\n",
       "      <td>5</td>\n",
       "      <td>choice5</td>\n",
       "      <td>0</td>\n",
       "      <td>1</td>\n",
       "      <td>0</td>\n",
       "      <td>regcar</td>\n",
       "      <td>truck</td>\n",
       "      <td>regcar</td>\n",
       "      <td>van</td>\n",
       "      <td>regcar</td>\n",
       "      <td>...</td>\n",
       "      <td>8</td>\n",
       "      <td>8</td>\n",
       "      <td>2</td>\n",
       "      <td>2</td>\n",
       "      <td>0.3</td>\n",
       "      <td>0.3</td>\n",
       "      <td>0.7</td>\n",
       "      <td>0.7</td>\n",
       "      <td>1.0</td>\n",
       "      <td>1.0</td>\n",
       "    </tr>\n",
       "  </tbody>\n",
       "</table>\n",
       "<p>5 rows × 71 columns</p>\n",
       "</div>"
      ],
      "text/plain": [
       "   rownames   choice  college  hsg2  coml5   type1   type2   type3    type4  \\\n",
       "0         1  choice1        0     0      0     van  regcar     van  stwagon   \n",
       "1         2  choice2        1     1      1  regcar     van  regcar  stwagon   \n",
       "2         3  choice5        0     1      0  regcar   truck  regcar      van   \n",
       "3         4  choice5        0     0      1  regcar   truck  regcar      van   \n",
       "4         5  choice5        0     1      0  regcar   truck  regcar      van   \n",
       "\n",
       "    type5  ... cost3 cost4 cost5 cost6 station1 station2 station3  station4  \\\n",
       "0     van  ...     6     6     8     8      0.1      0.1      0.3       0.3   \n",
       "1  regcar  ...     8     8     4     4      0.0      0.0      0.1       0.1   \n",
       "2  regcar  ...     8     8     2     2      0.1      0.1      0.3       0.3   \n",
       "3  regcar  ...     2     2     4     4      0.0      0.0      0.7       0.7   \n",
       "4  regcar  ...     8     8     2     2      0.3      0.3      0.7       0.7   \n",
       "\n",
       "   station5  station6  \n",
       "0       1.0       1.0  \n",
       "1       1.0       1.0  \n",
       "2       1.0       1.0  \n",
       "3       0.1       0.1  \n",
       "4       1.0       1.0  \n",
       "\n",
       "[5 rows x 71 columns]"
      ]
     },
     "execution_count": 65,
     "metadata": {},
     "output_type": "execute_result"
    }
   ],
   "source": [
    "df.head()"
   ]
  },
  {
   "cell_type": "markdown",
   "metadata": {},
   "source": [
    "### Columns Description:\n",
    "\n",
    "| Column Name    | Description |\n",
    "| -------- | ------- |\n",
    "| choice | Choice of a vehicle among 6 propositions |\n",
    "| college | College education of customer |\n",
    "| hsg2 | Size of household is greater than 2 |\n",
    "| coml5 | Customer commutes less than 5 miles a day |\n",
    "\n",
    "Then each alternive has several attributes:\n",
    "| Column Name    | Description |\n",
    "| -------- | ------- |\n",
    "| type  | Body type of alternative Z, one of regcar (regular car), sportuv (sport utility vehicle), sportcar, stwagon (station wagon), truck, van |\n",
    "| fuel | Fuel type: among gasoline, methanol, cng (compressed natural gas), electric. |\n",
    "| price | Price of vehicle divided by the logarithm of income|\n",
    "| range | Hundreds of miles vehicle can travel between refuelings/rechargings |\n",
    "| acc | Acceleration, tens of seconds required to reach 30 mph from stop |\n",
    "| speed | Highest attainable speed in hundreds of mph|\n",
    "| pollution | Tailpipe emissions as fraction of those for new gas vehicle|\n",
    "| size | 0 for a mini, 1 for a subcompact, 2 for a compact and 3 for a mid–size or large vehicle|\n",
    "| space | Fraction of luggage space in comparable new gas vehicle |\n",
    "| cost | Cost per mile of travel (tens of cents) |\n",
    "| station | Fraction of stations that can refuel/recharge vehicle |"
   ]
  },
  {
   "cell_type": "code",
   "execution_count": 66,
   "metadata": {},
   "outputs": [
    {
     "name": "stdout",
     "output_type": "stream",
     "text": [
      "[5.1388859 75 2.5 85 0.4 3 1.0 2 0.3]\n",
      "[4.1753448 350 4.0 110 0.25 2 1 6 1.0]\n"
     ]
    }
   ],
   "source": [
    "import pandas as pd\n",
    "import numpy as np\n",
    "\n",
    "# Define only numerical features that influence preferences\n",
    "numerical_features = [\"price\", \"range\", \"acc\", \"speed\", \"pollution\", \"size\", \"space\", \"cost\", \"station\"]\n",
    "\n",
    "preference_pairs = []\n",
    "\n",
    "for _, row in df.iterrows():\n",
    "    chosen_col = row[\"choice\"] \n",
    "    \n",
    "    chosen_index = int(chosen_col.replace(\"choice\", \"\")) - 1  # Convert \"choice1\" → index 0\n",
    "    \n",
    "    # Extract only numerical features for the chosen car\n",
    "    X = row[[f\"{col}{chosen_index + 1}\" for col in numerical_features]].values  \n",
    "    \n",
    "    # Iterate over rejected alternatives\n",
    "    for alt_index in range(6):  # Assuming 6 alternatives per customer\n",
    "        if alt_index != chosen_index:\n",
    "            # Extract only numerical features for the rejected alternative\n",
    "            Y = row[[f\"{col}{alt_index + 1}\" for col in numerical_features]].values\n",
    "            preference_pairs.append((X, Y))\n",
    "\n",
    "print(X)  # Check chosen car numerical features\n",
    "print(Y)  # Check rejected car numerical features\n",
    "\n"
   ]
  },
  {
   "cell_type": "code",
   "execution_count": 67,
   "metadata": {},
   "outputs": [
    {
     "name": "stdout",
     "output_type": "stream",
     "text": [
      "Extracted 23270 preference pairs.\n",
      "[[4.1753448 250 4.0 ... 0.7 4 0.1]\n",
      " [4.1753448 250 4.0 ... 0.7 4 0.1]\n",
      " [4.1753448 250 4.0 ... 0.7 4 0.1]\n",
      " ...\n",
      " [5.1388859 75 2.5 ... 1.0 2 0.3]\n",
      " [5.1388859 75 2.5 ... 1.0 2 0.3]\n",
      " [5.1388859 75 2.5 ... 1.0 2 0.3]] [[4.1753448 250 4.0 ... 0.7 4 0.1]\n",
      " [4.8177056 400 6.0 ... 1.0 6 0.3]\n",
      " [4.8177056 400 6.0 ... 1.0 6 0.3]\n",
      " ...\n",
      " [5.1388859 75 2.5 ... 1.0 2 0.3]\n",
      " [4.1753448 350 4.0 ... 1 6 1.0]\n",
      " [4.1753448 350 4.0 ... 1 6 1.0]]\n"
     ]
    }
   ],
   "source": [
    "X_data = np.array([pair[0] for pair in preference_pairs])  # Chosen cars\n",
    "Y_data = np.array([pair[1] for pair in preference_pairs])  # Rejected cars\n",
    "\n",
    "print(f\"Extracted {X_data.shape[0]} preference pairs.\")\n",
    "print(X_data, Y_data)\n"
   ]
  },
  {
   "cell_type": "code",
   "execution_count": 68,
   "metadata": {},
   "outputs": [
    {
     "data": {
      "text/plain": [
       "<models.HeuristicModel at 0x13fd54820>"
      ]
     },
     "execution_count": 68,
     "metadata": {},
     "output_type": "execute_result"
    }
   ],
   "source": [
    "# Let's train an example model\n",
    "X, Y = X_data, Y_data\n",
    "model = HeuristicModel(n_pieces=5, n_clusters=2) # Instantiation of the model with hyperparameters, if needed\n",
    "model.fit(X, Y) # Training of the model, using preference data"
   ]
  },
  {
   "cell_type": "code",
   "execution_count": 69,
   "metadata": {},
   "outputs": [
    {
     "name": "stdout",
     "output_type": "stream",
     "text": [
      "[[ 0.          0.        ]\n",
      " [ 0.08506331 -0.39099908]\n",
      " [ 0.08506331 -0.39099908]\n",
      " [-0.08386938 -0.18852492]\n",
      " [-0.08386938 -0.18852492]]\n"
     ]
    }
   ],
   "source": [
    "# First, let's see how our model reconsiders our preferences\n",
    "# Our data preferences were X[i] >> Y[i] for all i, let's see if our model agrees\n",
    "print((model.predict_utility(X) - model.predict_utility(Y))[:5]) # Preferred item has a higher utility\n",
    "\n",
    "# predict_utility returns utility of samples for each cluster, returning shape (n_samples, n_clusters)"
   ]
  },
  {
   "cell_type": "code",
   "execution_count": 71,
   "metadata": {},
   "outputs": [
    {
     "name": "stdout",
     "output_type": "stream",
     "text": [
      "[[1.21259931 0.60184807]\n",
      " [1.21259931 0.60184807]\n",
      " [1.21259931 0.60184807]\n",
      " ...\n",
      " [1.44300827 0.9350098 ]\n",
      " [1.44300827 0.9350098 ]\n",
      " [1.44300827 0.9350098 ]]\n"
     ]
    }
   ],
   "source": [
    "\n",
    "# Predict utility values\n",
    "utility_values = model.predict_utility(X)\n",
    "print(utility_values)"
   ]
  }
 ],
 "metadata": {
  "kernelspec": {
   "display_name": "gurobi_env",
   "language": "python",
   "name": "python3"
  },
  "language_info": {
   "codemirror_mode": {
    "name": "ipython",
    "version": 3
   },
   "file_extension": ".py",
   "mimetype": "text/x-python",
   "name": "python",
   "nbconvert_exporter": "python",
   "pygments_lexer": "ipython3",
   "version": "3.10.13"
  }
 },
 "nbformat": 4,
 "nbformat_minor": 2
}
